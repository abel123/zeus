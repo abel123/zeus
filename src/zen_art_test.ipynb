{
 "cells": [
  {
   "cell_type": "code",
   "execution_count": 36,
   "id": "b5f1d77a-9b81-4818-8c78-048e66c57fc6",
   "metadata": {},
   "outputs": [
    {
     "data": {
      "text/plain": [
       "KLine(original_kline=                         time    open    high       low   close       volume  \\\n",
       "0   2022-02-01 05:00:00+00:00  935.21  943.70  905.0000  931.25   24990159.0   \n",
       "1   2022-02-02 05:00:00+00:00  928.18  931.50  889.4100  905.66   23046614.0   \n",
       "2   2022-02-03 05:00:00+00:00  882.00  937.00  880.5200  891.14   26991037.0   \n",
       "3   2022-02-04 05:00:00+00:00  897.22  936.50  881.1700  923.32   24980935.0   \n",
       "4   2022-02-07 05:00:00+00:00  923.79  947.77  902.7089  907.34   20730953.0   \n",
       "..                        ...     ...     ...       ...     ...          ...   \n",
       "436 2023-10-26 04:00:00+00:00  211.32  214.80  204.8800  205.76  115208783.0   \n",
       "437 2023-10-27 04:00:00+00:00  210.60  213.92  205.7700  207.30   94882274.0   \n",
       "438 2023-10-30 04:00:00+00:00  209.28  210.88  194.6700  197.36  136503931.0   \n",
       "439 2023-10-31 04:00:00+00:00  196.12  202.80  194.0700  200.84  118088997.0   \n",
       "440 2023-11-01 04:00:00+00:00  204.04  205.99  197.8500  205.66  121661658.0   \n",
       "\n",
       "     trade_count        vwap  \n",
       "0       756027.0  927.306022  \n",
       "1       716352.0  909.283210  \n",
       "2       767221.0  908.772168  \n",
       "3       681221.0  914.608610  \n",
       "4       640687.0  921.849927  \n",
       "..           ...         ...  \n",
       "436    1276215.0  208.326201  \n",
       "437    1046258.0  208.660996  \n",
       "438    1630868.0  200.008491  \n",
       "439    1388090.0  199.042062  \n",
       "440    1317338.0  201.949058  \n",
       "\n",
       "[441 rows x 8 columns], merged_kline=None, stroke_bars=None, macd_config=MACDConfig(slow=12, fast=26, signal_period=9), macd=None, bar_interval=1)"
      ]
     },
     "execution_count": 36,
     "metadata": {},
     "output_type": "execute_result"
    }
   ],
   "source": [
    "from backend.calculate.zen.art import KLine\n",
    "import pandas as pd\n",
    "\n",
    "from datetime import datetime\n",
    "from alpaca.data import CryptoHistoricalDataClient, StockHistoricalDataClient\n",
    "from alpaca.data.requests import StockBarsRequest\n",
    "from alpaca.data.timeframe import TimeFrame\n",
    "\n",
    "# keys required\n",
    "stock_client = StockHistoricalDataClient(\n",
    "    \"AKA93VVW12633ONJUZP9\", \"UkU9AuHtoTrQPrwa43iTAuEscX7JOHoxIGwGXuhc\"\n",
    ")\n",
    "\n",
    "start = datetime(2022, 2, 1)\n",
    "limit = 2000\n",
    "request_params = StockBarsRequest(\n",
    "    symbol_or_symbols=\"TSLA\", timeframe=TimeFrame.Day, start=start, limit=limit\n",
    ")\n",
    "\n",
    "\n",
    "bars = stock_client.get_stock_bars(request_params)\n",
    "\n",
    "# convert to dataframe\n",
    "#print(bars.df.loc['TSLA', :].info())\n",
    "bar = bars.df.loc['TSLA', :]\n",
    "bar = bar.rename_axis(\"time\")\n",
    "bar.reset_index(inplace=True)\n",
    "\n",
    "line = KLine(original_kline=bar, bar_interval=1)\n",
    "\n",
    "line"
   ]
  },
  {
   "cell_type": "code",
   "execution_count": null,
   "id": "3392fce3-7fab-4311-bc3b-295511abcda3",
   "metadata": {},
   "outputs": [],
   "source": []
  }
 ],
 "metadata": {
  "kernelspec": {
   "display_name": "Python 3 (ipykernel)",
   "language": "python",
   "name": "python3"
  },
  "language_info": {
   "codemirror_mode": {
    "name": "ipython",
    "version": 3
   },
   "file_extension": ".py",
   "mimetype": "text/x-python",
   "name": "python",
   "nbconvert_exporter": "python",
   "pygments_lexer": "ipython3",
   "version": "3.11.6"
  }
 },
 "nbformat": 4,
 "nbformat_minor": 5
}
